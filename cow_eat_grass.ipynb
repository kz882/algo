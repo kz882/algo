{
 "cells": [
  {
   "cell_type": "code",
   "execution_count": 1,
   "metadata": {},
   "outputs": [],
   "source": [
    "import numpy as np\n",
    "import random"
   ]
  },
  {
   "cell_type": "code",
   "execution_count": 2,
   "metadata": {},
   "outputs": [],
   "source": [
    "def cleanland():\n",
    "    land = [[0 for x in range(13)] for y in range(13)] \n",
    "    for i in range(13):\n",
    "        for j in range(13):\n",
    "            if i==0 or i== 12 or j==0 or j==12:\n",
    "                land[i][j] = -1\n",
    "    return land"
   ]
  },
  {
   "cell_type": "code",
   "execution_count": 3,
   "metadata": {},
   "outputs": [
    {
     "data": {
      "text/plain": [
       "[[-1, -1, -1, -1, -1, -1, -1, -1, -1, -1, -1, -1, -1],\n",
       " [-1, 0, 0, 0, 0, 0, 0, 0, 0, 0, 0, 0, -1],\n",
       " [-1, 0, 0, 0, 0, 0, 0, 0, 0, 0, 0, 0, -1],\n",
       " [-1, 0, 0, 0, 0, 0, 0, 0, 0, 0, 0, 0, -1],\n",
       " [-1, 0, 0, 0, 0, 0, 0, 0, 0, 0, 0, 0, -1],\n",
       " [-1, 0, 0, 0, 0, 0, 0, 0, 0, 0, 0, 0, -1],\n",
       " [-1, 0, 0, 0, 0, 0, 0, 0, 0, 0, 0, 0, -1],\n",
       " [-1, 0, 0, 0, 0, 0, 0, 0, 0, 0, 0, 0, -1],\n",
       " [-1, 0, 0, 0, 0, 0, 0, 0, 0, 0, 0, 0, -1],\n",
       " [-1, 0, 0, 0, 0, 0, 0, 0, 0, 0, 0, 0, -1],\n",
       " [-1, 0, 0, 0, 0, 0, 0, 0, 0, 0, 0, 0, -1],\n",
       " [-1, 0, 0, 0, 0, 0, 0, 0, 0, 0, 0, 0, -1],\n",
       " [-1, -1, -1, -1, -1, -1, -1, -1, -1, -1, -1, -1, -1]]"
      ]
     },
     "execution_count": 3,
     "metadata": {},
     "output_type": "execute_result"
    }
   ],
   "source": [
    "cleanland()"
   ]
  },
  {
   "cell_type": "code",
   "execution_count": 4,
   "metadata": {},
   "outputs": [],
   "source": [
    "def move(land,i,j): # move from (i,j) to (p,q)\n",
    "    potentials = [(i-1,j-1),(i,j-1),(i+1,j-1),(i-1,j),(i+1,j),(i-1,j+1),(i,j+1),(i+1,j+1)]\n",
    "    yes = []\n",
    "    for p in potentials:\n",
    "        if land[p[0]][p[1]]!=-1:\n",
    "#             print(\"add:\",p)\n",
    "            yes.append(p)\n",
    "    choice = random.choice(yes)\n",
    "    return choice"
   ]
  },
  {
   "cell_type": "code",
   "execution_count": 5,
   "metadata": {},
   "outputs": [],
   "source": [
    "def calc(land):\n",
    "    eat = 0\n",
    "    for i in range(1,12):\n",
    "        for j in range(1,12):\n",
    "            eat += land[i][j]\n",
    "    \n",
    "    return eat/121"
   ]
  },
  {
   "cell_type": "code",
   "execution_count": 6,
   "metadata": {},
   "outputs": [],
   "source": [
    "def process(land):\n",
    "    #initial state\n",
    "    i=6\n",
    "    j=6\n",
    "    for ct in range (144):\n",
    "        curr = move(land,i,j)\n",
    "#         print(curr)\n",
    "        i = curr[0]\n",
    "        j = curr[1]\n",
    "        land[i][j] = 1\n",
    "    percent = calc(land)\n",
    "        \n",
    "    return percent"
   ]
  },
  {
   "cell_type": "code",
   "execution_count": 7,
   "metadata": {},
   "outputs": [],
   "source": [
    "import matplotlib.pyplot as plt\n"
   ]
  },
  {
   "cell_type": "code",
   "execution_count": 8,
   "metadata": {},
   "outputs": [],
   "source": [
    "percent = []\n",
    "\n",
    "for i in range(100000):\n",
    "    land = cleanland()\n",
    "    i = 6\n",
    "    j = 6\n",
    "    land[i][j] = 1\n",
    "#     try:\n",
    "#         pct = process()\n",
    "#     except:\n",
    "#         print(land)\n",
    "    pct = process(land)\n",
    "    percent.append(pct)\n",
    "\n",
    "average = [percent[0]]\n",
    "for i in range(1,len(percent)):\n",
    "    average.append(i/(i+1) * average[i-1] + 1/(i+1) * percent[i])"
   ]
  },
  {
   "cell_type": "code",
   "execution_count": 9,
   "metadata": {},
   "outputs": [],
   "source": [
    "# print(percent)\n",
    "# print(average)"
   ]
  },
  {
   "cell_type": "code",
   "execution_count": 10,
   "metadata": {},
   "outputs": [
    {
     "data": {
      "text/plain": [
       "[<matplotlib.lines.Line2D at 0x116ca1278>]"
      ]
     },
     "execution_count": 10,
     "metadata": {},
     "output_type": "execute_result"
    },
    {
     "data": {
      "image/png": "[encoded data removed]",
      "text/plain": [
       "<Figure size 432x288 with 1 Axes>"
      ]
     },
     "metadata": {
      "needs_background": "light"
     },
     "output_type": "display_data"
    }
   ],
   "source": [
    "plt.plot(np.arange(1,len(average)+1),average)"
   ]
  },
  {
   "cell_type": "code",
   "execution_count": 11,
   "metadata": {},
   "outputs": [
    {
     "data": {
      "text/plain": [
       "0.48863818181818564"
      ]
     },
     "execution_count": 11,
     "metadata": {},
     "output_type": "execute_result"
    }
   ],
   "source": [
    "average[-1]"
   ]
  },
  {
   "cell_type": "code",
   "execution_count": null,
   "metadata": {},
   "outputs": [],
   "source": []
  }
 ],
 "metadata": {
  "kernelspec": {
   "display_name": "Python 3",
   "language": "python",
   "name": "python3"
  },
  "language_info": {
   "codemirror_mode": {
    "name": "ipython",
    "version": 3
   },
   "file_extension": ".py",
   "mimetype": "text/x-python",
   "name": "python",
   "nbconvert_exporter": "python",
   "pygments_lexer": "ipython3",
   "version": "3.7.3"
  }
 },
 "nbformat": 4,
 "nbformat_minor": 4
}
