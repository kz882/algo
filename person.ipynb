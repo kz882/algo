{
 "cells": [
  {
   "cell_type": "code",
   "execution_count": 1,
   "metadata": {},
   "outputs": [
    {
     "name": "stdout",
     "output_type": "stream",
     "text": [
      "User Abbas has been added with id  0\n",
      "User associated with id 0 is  Abbas\n"
     ]
    }
   ],
   "source": [
    "class Person:\n",
    "    name = []\n",
    "\n",
    "    def set_name(self, user_name):\n",
    "        self.name.append(user_name)\n",
    "        return len(self.name) - 1\n",
    "\n",
    "    def get_name(self, user_id):\n",
    "        if user_id >= len(self.name):\n",
    "            return 'There is no such user'\n",
    "        else:\n",
    "            return self.name[user_id]\n",
    "\n",
    "\n",
    "if __name__ == '__main__':\n",
    "    person = Person()\n",
    "    print('User Abbas has been added with id ', person.set_name('Abbas'))\n",
    "    print('User associated with id 0 is ', person.get_name(0))"
   ]
  },
  {
   "cell_type": "code",
   "execution_count": null,
   "metadata": {},
   "outputs": [],
   "source": []
  }
 ],
 "metadata": {
  "kernelspec": {
   "display_name": "Python 3",
   "language": "python",
   "name": "python3"
  },
  "language_info": {
   "codemirror_mode": {
    "name": "ipython",
    "version": 3
   },
   "file_extension": ".py",
   "mimetype": "text/x-python",
   "name": "python",
   "nbconvert_exporter": "python",
   "pygments_lexer": "ipython3",
   "version": "3.7.3"
  }
 },
 "nbformat": 4,
 "nbformat_minor": 2
}
